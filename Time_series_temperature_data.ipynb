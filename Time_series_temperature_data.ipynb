{
  "nbformat": 4,
  "nbformat_minor": 0,
  "metadata": {
    "colab": {
      "provenance": []
    },
    "kernelspec": {
      "name": "python3",
      "display_name": "Python 3"
    },
    "language_info": {
      "name": "python"
    }
  },
  "cells": [
    {
      "cell_type": "code",
      "execution_count": null,
      "metadata": {
        "id": "EABIpaFbCdt6"
      },
      "outputs": [],
      "source": [
        "import pandas as pd\n",
        "import requests\n",
        "\n",
        "# Set the parameters for the API request\n",
        "params = {\n",
        "    \"dataset\": \"daily-summaries\",\n",
        "    \"stations\": \"GHCND:USW00094728\", # This is the station ID for Central Park, NY\n",
        "    \"startdate\": \"1921-01-01\",\n",
        "    \"enddate\": \"2020-12-31\",\n",
        "    \"datatypeid\": \"TAVG\", # This is the ID for average temperature\n",
        "    \"limit\": 100000, # This is the maximum number of records we can get in a single request\n",
        "    \"units\": \"metric\",\n",
        "    \"includemetadata\": \"false\",\n",
        "}\n",
        "\n",
        "# Make the API request\n",
        "response = requests.get(\"https://www.ncei.noaa.gov/access/services/data/v1\", params=params)\n",
        "\n",
        "# Convert the response to a Pandas dataframe\n",
        "data = pd.read_csv(response.content.decode(\"utf-8\"))\n",
        "\n",
        "# Convert the date column to a datetime object\n",
        "data[\"DATE\"] = pd.to_datetime(data[\"DATE\"])\n",
        "\n",
        "# Group the data by year and month, and calculate the average temperature for each month\n",
        "monthly_data = data.groupby([data[\"DATE\"].dt.year, data[\"DATE\"].dt.month])[\"TAVG\"].mean()\n",
        "\n",
        "# Print the resulting dataframe\n",
        "print(monthly_data)\n"
      ]
    },
    {
      "cell_type": "code",
      "source": [
        "import pandas as pd\n",
        "import requests\n",
        "\n",
        "# Set the parameters for the API request\n",
        "params = {\n",
        "    \"dataset\": \"daily-summaries\",\n",
        "    \"stations\": \"GHCND:KPC00094641\", # This is the station ID for Seoul, South Korea\n",
        "    \"startdate\": \"1921-01-01\",\n",
        "    \"enddate\": \"2020-12-31\",\n",
        "    \"datatypeid\": \"TAVG\", # This is the ID for average temperature\n",
        "    \"limit\": 100000, # This is the maximum number of records we can get in a single request\n",
        "    \"units\": \"metric\",\n",
        "    \"includemetadata\": \"false\",\n",
        "}\n",
        "\n",
        "# Make the API request\n",
        "response = requests.get(\"https://www.ncei.noaa.gov/access/services/data/v1\", params=params)\n",
        "\n",
        "# Convert the response to a Pandas dataframe\n",
        "data = pd.read_csv(response.content.decode(\"utf-8\"))\n",
        "\n",
        "# Convert the date column to a datetime object\n",
        "data[\"DATE\"] = pd.to_datetime(data[\"DATE\"])\n",
        "\n",
        "# Group the data by year and month, and calculate the average temperature for each month\n",
        "monthly_data = data.groupby([data[\"DATE\"].dt.year, data[\"DATE\"].dt.month])[\"TAVG\"].mean()\n",
        "\n",
        "# Print the resulting dataframe\n",
        "print(monthly_data)\n"
      ],
      "metadata": {
        "id": "e6xS8hBwC9ib"
      },
      "execution_count": null,
      "outputs": []
    },
    {
      "cell_type": "markdown",
      "source": [
        "## from landsat"
      ],
      "metadata": {
        "id": "SxmDer1WDY1q"
      }
    },
    {
      "cell_type": "code",
      "source": [
        "import ee\n",
        "# ee.Authenticate() # follow the authentication steps in the opened web page\n",
        "ee.Initialize()"
      ],
      "metadata": {
        "colab": {
          "base_uri": "https://localhost:8080/"
        },
        "id": "fQQBMjZjDb0q",
        "outputId": "8103aaac-4f67-4150-ddb0-b79ed6fd75a9"
      },
      "execution_count": 2,
      "outputs": [
        {
          "output_type": "stream",
          "name": "stdout",
          "text": [
            "To authorize access needed by Earth Engine, open the following URL in a web browser and follow the instructions. If the web browser does not start automatically, please manually browse the URL below.\n",
            "\n",
            "    https://code.earthengine.google.com/client-auth?scopes=https%3A//www.googleapis.com/auth/earthengine%20https%3A//www.googleapis.com/auth/devstorage.full_control&request_id=IA9lpwHOoyOdZX2CpY4Jg8fybYKD40-aFxgCg9V7ltg&tc=F5HcYIltXGD3gxyrOBwRkjTig123aNRdMqZPfgZECEY&cc=K0CXA93tr8j6qe6y8opcWPMTPfv732IeYR3r7CbeBNg\n",
            "\n",
            "The authorization workflow will generate a code, which you should paste in the box below.\n",
            "Enter verification code: 4/1AWtgzh75Rxa7RwsCUuW3XAB5Eir0ixtbsOsKkktfsP0v6M7tsCpKd9RQhZk\n",
            "\n",
            "Successfully saved authorization token.\n"
          ]
        }
      ]
    },
    {
      "cell_type": "code",
      "source": [
        "\n",
        "\n",
        "# Define the region of interest (ROI)\n",
        "roi = ee.Geometry.Rectangle([126.63, 37.37, 127.03, 37.63]) # [xmin, ymin, xmax, ymax] in decimal degrees\n",
        "\n",
        "# Define the time period\n",
        "start_date = '2019-01-01'\n",
        "end_date = '2019-12-31'\n",
        "\n",
        "# Load the Landsat 8 surface reflectance data\n",
        "collection = ee.ImageCollection('LANDSAT/LC08/C01/T1_SR') \\\n",
        "  .filterBounds(roi) \\\n",
        "  .filterDate(start_date, end_date)\n",
        "\n",
        "# Select the bands of interest\n",
        "bands = ['B2', 'B3', 'B4', 'B5', 'B6', 'B7']\n",
        "\n",
        "# Get the first image in the collection\n",
        "image = collection.first()\n",
        "\n",
        "# Get the metadata of the image\n",
        "metadata = image.getInfo()\n",
        "\n",
        "# Get the image ID and date\n",
        "image_id = metadata['id']\n",
        "image_date = metadata['properties']['DATE_ACQUIRED']\n",
        "\n",
        "# Download the image\n",
        "download_url = image.getDownloadURL({\n",
        "    'name': image_id,\n",
        "    'bands': ','.join(bands),\n",
        "    'scale': 30 # the resolution of the image in meters\n",
        "})\n",
        "\n",
        "# Download the image to a local file\n",
        "import urllib.request\n",
        "urllib.request.urlretrieve(download_url, f'{image_id}.zip')\n"
      ],
      "metadata": {
        "id": "tBORihTCDWvS"
      },
      "execution_count": null,
      "outputs": []
    },
    {
      "cell_type": "code",
      "source": [
        "metadata['properties']"
      ],
      "metadata": {
        "colab": {
          "base_uri": "https://localhost:8080/"
        },
        "id": "t_1PHni6D-Fa",
        "outputId": "cb29f7f9-9d5c-4681-d77e-48dfc5c63a7b"
      },
      "execution_count": 6,
      "outputs": [
        {
          "output_type": "execute_result",
          "data": {
            "text/plain": [
              "{'IMAGE_QUALITY_TIRS': 9,\n",
              " 'CLOUD_COVER': 68.01,\n",
              " 'EARTH_SUN_DISTANCE': 0.983303,\n",
              " 'LANDSAT_ID': 'LC08_L1TP_116034_20190104_20190130_01_T1',\n",
              " 'system:footprint': {'type': 'LinearRing',\n",
              "  'coordinates': [[126.02314315859896, 38.4957677946388],\n",
              "   [125.87395546104199, 38.522477152479325],\n",
              "   [125.86981179067439, 38.5086024457793],\n",
              "   [125.85873066100417, 38.470736942637245],\n",
              "   [125.61875566020609, 37.636209918423724],\n",
              "   [125.50183825328823, 37.2234571480061],\n",
              "   [125.38369216827634, 36.802284501499194],\n",
              "   [125.3865079570094, 36.80162373701499],\n",
              "   [125.67434014572358, 36.74871365129544],\n",
              "   [127.04364569637272, 36.48628387778768],\n",
              "   [127.40986626337289, 36.413087333535465],\n",
              "   [127.5111610592346, 36.74215116149085],\n",
              "   [127.63079135184466, 37.127712459773484],\n",
              "   [127.67904722490215, 37.282268829075186],\n",
              "   [127.81183186042422, 37.70534392268486],\n",
              "   [127.89883357477783, 37.98028984778154],\n",
              "   [127.93717602575434, 38.10129561479134],\n",
              "   [127.94694097064483, 38.132211316840916],\n",
              "   [127.8344675484878, 38.154454108367865],\n",
              "   [126.67944664759551, 38.37573353678597],\n",
              "   [126.02314315859896, 38.4957677946388]]},\n",
              " 'CLOUD_COVER_LAND': 58.86,\n",
              " 'GEOMETRIC_RMSE_MODEL': 9.145,\n",
              " 'SR_APP_VERSION': 'LaSRC_1.3.0',\n",
              " 'SATELLITE': 'LANDSAT_8',\n",
              " 'SOLAR_AZIMUTH_ANGLE': 157.556442,\n",
              " 'IMAGE_QUALITY_OLI': 9,\n",
              " 'system:time_end': 1546567855390,\n",
              " 'WRS_PATH': 116,\n",
              " 'system:time_start': 1546567855390,\n",
              " 'SENSING_TIME': '2019-01-04T02:10:55.3880420Z',\n",
              " 'ESPA_VERSION': '2_23_0_1b',\n",
              " 'SOLAR_ZENITH_ANGLE': 63.626785,\n",
              " 'WRS_ROW': 34,\n",
              " 'GEOMETRIC_RMSE_MODEL_Y': 6.785,\n",
              " 'LEVEL1_PRODUCTION_DATE': 1548844370000,\n",
              " 'GEOMETRIC_RMSE_MODEL_X': 6.131,\n",
              " 'system:asset_size': 654478549,\n",
              " 'PIXEL_QA_VERSION': 'generate_pixel_qa_1.6.0',\n",
              " 'system:index': 'LC08_116034_20190104'}"
            ]
          },
          "metadata": {},
          "execution_count": 6
        }
      ]
    },
    {
      "cell_type": "markdown",
      "source": [
        "## next trial "
      ],
      "metadata": {
        "id": "BNk9jS5OEZLj"
      }
    },
    {
      "cell_type": "code",
      "source": [
        "!pip install overpy"
      ],
      "metadata": {
        "id": "KYr33K1jEc8R"
      },
      "execution_count": null,
      "outputs": []
    },
    {
      "cell_type": "code",
      "source": [
        "import overpy\n",
        "\n",
        "# Set up the Overpass API client\n",
        "api = overpy.Overpass()\n",
        "\n",
        "# Define the query to retrieve the administrative boundary data for South Korea\n",
        "query = \"\"\"\n",
        "area[\"ISO3166-1\"=\"KR\"][admin_level=2];\n",
        "relation(area)[\"type\"=\"boundary\"][\"boundary\"=\"administrative\"][\"admin_level\"=\"3\"];\n",
        "out geom;\n",
        "\"\"\"\n",
        "\n",
        "# Send the query to the Overpass API\n",
        "result = api.query(query)\n",
        "\n",
        "# Print the result\n",
        "for boundary in result.relations:\n",
        "    print(boundary.tags['name'], boundary.geometry())\n"
      ],
      "metadata": {
        "id": "zrcVPEMHEYhs"
      },
      "execution_count": 9,
      "outputs": []
    },
    {
      "cell_type": "code",
      "source": [
        "import requests\n",
        "\n",
        "# Set the URL for the Natural Earth data\n",
        "url = 'https://www.naturalearthdata.com/http//www.naturalearthdata.com/download/10m/cultural/ne_10m_admin_0_countries_lakes.zip'\n",
        "\n",
        "# Download the data and extract the GeoJSON file for South Korea\n",
        "import zipfile\n",
        "import io\n",
        "r = requests.get(url)\n",
        "z = zipfile.ZipFile(io.BytesIO(r.content))\n",
        "filename = 'ne_10m_admin_0_countries_lakes/ne_10m_admin_0_countries_lakes.shp'\n",
        "gdf = gpd.read_file(z.open(filename))\n",
        "gdf = gdf[gdf['ADMIN'] == 'South Korea']\n",
        "\n",
        "# Print the resulting GeoDataFrame\n",
        "print(gdf)\n"
      ],
      "metadata": {
        "id": "UvKja1SqEmWh"
      },
      "execution_count": null,
      "outputs": []
    },
    {
      "cell_type": "markdown",
      "source": [
        "### yearly temp data"
      ],
      "metadata": {
        "id": "yO-wGjNUFdzZ"
      }
    },
    {
      "cell_type": "code",
      "source": [
        "import pandas as pd\n",
        "import matplotlib.pyplot as plt\n",
        "\n",
        "# Define the URL for the GHCN data\n",
        "url = 'https://www.ncei.noaa.gov/pub/data/ghcn/daily/hcn/'\n",
        "filename = 'ALL_{}_{}_{}_dly.csv'\n",
        "\n",
        "# Define the station ID for South Korea (in this case, Seoul)\n",
        "station_id = 'KXSG0007'\n",
        "\n",
        "# Define the start and end years for the temperature data\n",
        "start_year = 1921\n",
        "end_year = 2020\n",
        "\n",
        "# Create an empty list to store the annual mean temperature data\n",
        "annual_temps = []\n",
        "\n",
        "# Loop over the years and retrieve the daily temperature data\n",
        "for year in range(start_year, end_year + 1):\n",
        "    df = pd.read_csv(url + filename.format(station_id, year, year), header=None)\n",
        "    df.columns = ['station', 'date', 'element', 'value', 'mflag', 'qflag', 'sflag', 'obstime']\n",
        "    df['date'] = pd.to_datetime(df['date'], format='%Y%m%d')\n",
        "    df = df.set_index('date')\n",
        "    df = df[df['element'] == 'TAVG']\n",
        "    annual_temps.append(df.resample('Y').mean()['value'].values[0])\n",
        "\n",
        "# Create a pandas Series with the annual mean temperature data\n",
        "annual_temps_series = pd.Series(annual_temps, index=range(start_year, end_year + 1))\n",
        "\n",
        "# Create a line plot of the annual mean temperature data\n",
        "fig, ax = plt.subplots(figsize=(12, 6))\n",
        "ax.plot(annual_temps_series.index, annual_temps_series, color='red')\n",
        "ax.set_xlabel('Year')\n",
        "ax.set_ylabel('Temperature (°C)')\n",
        "ax.set_title('South Korea Annual Mean Temperature (1921-2020)')\n",
        "plt.show()\n"
      ],
      "metadata": {
        "id": "z8EUvMRAFeRJ"
      },
      "execution_count": null,
      "outputs": []
    },
    {
      "cell_type": "markdown",
      "source": [
        "### monthly data"
      ],
      "metadata": {
        "id": "asB71RpFF9AZ"
      }
    },
    {
      "cell_type": "code",
      "source": [
        "import pandas as pd\n",
        "import matplotlib.pyplot as plt\n",
        "\n",
        "# Define the URL for the GHCN data\n",
        "url = 'https://www.ncei.noaa.gov/pub/data/ghcn/daily/hcn/'\n",
        "filename = 'ALL_{}_{}_{}_dly.csv'\n",
        "\n",
        "# Define the station ID for South Korea (in this case, Seoul)\n",
        "# station_id = 'KXSG0007'\n",
        "station_id ='KSXX3778'\n",
        "\n",
        "# Define the start and end years for the temperature data\n",
        "start_year = 1921\n",
        "end_year = 2020\n",
        "\n",
        "# Create an empty list to store the monthly mean temperature data\n",
        "monthly_temps = []\n",
        "\n",
        "# Loop over the years and retrieve the daily temperature data\n",
        "for year in range(start_year, end_year + 1):\n",
        "    df = pd.read_csv(url + filename.format(station_id, year, year), header=None)\n",
        "    df.columns = ['station', 'date', 'element', 'value', 'mflag', 'qflag', 'sflag', 'obstime']\n",
        "    df['date'] = pd.to_datetime(df['date'], format='%Y%m%d')\n",
        "    df = df.set_index('date')\n",
        "    df = df[df['element'] == 'TAVG']\n",
        "    monthly_temps.append(df.resample('M').mean()['value'].values)\n",
        "\n",
        "# Create a pandas DataFrame with the monthly mean temperature data\n",
        "monthly_temps_df = pd.DataFrame(monthly_temps, index=range(start_year, end_year + 1), columns=range(1, 13))\n",
        "\n",
        "# Create a line plot of the monthly mean temperature data\n",
        "fig, ax = plt.subplots(figsize=(12, 6))\n",
        "monthly_temps_df.mean().plot(ax=ax, color='red')\n",
        "ax.set_xlabel('Month')\n",
        "ax.set_ylabel('Temperature (°C)')\n",
        "ax.set_title('South Korea Monthly Mean Temperature (1921-2020)')\n",
        "plt.show()\n"
      ],
      "metadata": {
        "id": "QvFDY8yIF6SJ"
      },
      "execution_count": null,
      "outputs": []
    },
    {
      "cell_type": "markdown",
      "source": [
        "### Landsat temperature data with bounding box \n",
        "\n",
        "Landsat data does not provide temperature data for a period of 100 years. Landsat satellites capture multispectral imagery of the earth's surface, which can be used to derive various geospatial products, such as land cover, vegetation indices, and surface temperature. However, the Landsat program only began in the 1970s, so it does not cover the entire 20th century."
      ],
      "metadata": {
        "id": "7DJaiE2RIodw"
      }
    },
    {
      "cell_type": "code",
      "source": [],
      "metadata": {
        "id": "CaJnCVvSIu2p"
      },
      "execution_count": null,
      "outputs": []
    },
    {
      "cell_type": "code",
      "source": [
        "import rasterio\n",
        "import geopandas as gpd\n",
        "import matplotlib.pyplot as plt\n",
        "\n",
        "# Define the bounding box coordinates in WGS84 (longitude, latitude)\n",
        "bbox = (126.813064, 37.447941, 129.468416, 38.676947)  # example for South Korea\n",
        "\n",
        "# Read the temperature data from a file (assuming it is in GeoTIFF format)\n",
        "with rasterio.open('path/to/temperature_data.tif') as src:\n",
        "    temp_data, temp_transform = rasterio.mask.mask(src, [bbox], crop=True)\n",
        "\n",
        "# Read the Landsat imagery from a file (assuming it is in GeoTIFF format)\n",
        "with rasterio.open('path/to/landsat_data.tif') as src:\n",
        "    landsat_data, landsat_transform = rasterio.mask.mask(src, [bbox], crop=True)\n",
        "\n",
        "# Create a GeoDataFrame with the bounding box coordinates\n",
        "geometry = gpd.points_from_xy([bbox[0], bbox[2]], [bbox[1], bbox[3]])\n",
        "bbox_df = gpd.GeoDataFrame(geometry=geometry, crs='EPSG:4326')\n",
        "\n",
        "# Plot the temperature data and Landsat imagery over the bounding box\n",
        "fig, ax = plt.subplots(figsize=(12, 6))\n",
        "ax.imshow(temp_data[0], cmap='coolwarm')\n",
        "ax.imshow(landsat_data[0], alpha=0.5)\n",
        "bbox_df.plot(ax=ax, color='none', edgecolor='black')\n",
        "ax.set_axis_off()\n",
        "plt.show()\n"
      ],
      "metadata": {
        "id": "EeQUWNo9IoL6"
      },
      "execution_count": null,
      "outputs": []
    },
    {
      "cell_type": "code",
      "source": [
        "import pandas as pd\n",
        "import numpy as np\n",
        "import matplotlib.pyplot as plt\n",
        "\n",
        "# Download the GHCN data for South Korea from 1921 to 2021\n",
        "url = 'https://www1.ncdc.noaa.gov/pub/data/ghcn/daily/hcn/'\n",
        "query = 'hcn_'\n",
        "station = '159'\n",
        "start_year = 1921\n",
        "end_year = 2021\n",
        "\n",
        "data = pd.DataFrame()\n",
        "\n",
        "for year in range(start_year, end_year + 1):\n",
        "    filename = query + station + '_' + str(year) + '.csv'\n",
        "    filepath = url + str(year) + '/' + filename\n",
        "    try:\n",
        "        year_data = pd.read_csv(filepath, header=None, names=['ID', 'Date', 'Element', 'Value', 'MFLAG', 'QFLAG', 'SFLAG', 'OBSTIME'])\n",
        "        year_data = year_data[year_data['Element'] == 'TAVG']\n",
        "        year_data['Year'] = year\n",
        "        data = pd.concat([data, year_data])\n",
        "    except:\n",
        "        pass\n",
        "\n",
        "# Convert the temperature data from tenths of degrees Celsius to degrees Celsius\n",
        "data['Value'] = data['Value'] / 10\n",
        "\n",
        "# Group the data by year and month and compute the monthly average temperature\n",
        "monthly_data = data.groupby(['Year', pd.Grouper(key='Date', freq='M')])['Value'].mean().reset_index()\n",
        "\n",
        "# Plot the monthly average temperature data over time\n",
        "fig, ax = plt.subplots(figsize=(12, 6))\n",
        "ax.plot(monthly_data['Date'], monthly_data['Value'], color='red')\n",
        "ax.set_xlabel('Year')\n",
        "ax.set_ylabel('Monthly Average Temperature (°C)')\n",
        "ax.set_title('South Korea Monthly Average Temperature (1921-2021)')\n",
        "plt.show()\n"
      ],
      "metadata": {
        "id": "-9uTh_EmJfWQ"
      },
      "execution_count": null,
      "outputs": []
    },
    {
      "cell_type": "code",
      "source": [
        "# https://www.ncei.noaa.gov/access/search/data-search/daily-summaries?bbox=37.611,126.933,37.521,127.023&startDate=2018-12-03T00:00:00&endDate=2020-01-03T23:59:59"
      ],
      "metadata": {
        "id": "QGpq4J1_Lba_"
      },
      "execution_count": null,
      "outputs": []
    },
    {
      "cell_type": "markdown",
      "source": [
        "The GHCN-D dataset does not include geographic coordinates for the weather stations, so it's not possible to select data for a specific region using a bounding box. The dataset only includes the station ID, name, country, and location (e.g. city or airport).\n",
        "\n",
        "If you want to select temperature data for a specific region in South Korea, you can try to find a weather station in that region using the dataset, and then select the data for that station as described in my earlier response. Alternatively, you can try to find a different dataset that includes geographic coordinates for weather stations in South Korea, and use that to select data for a specific region.\n",
        "\n",
        "One such dataset that includes geographic coordinates is the Global Surface Summary of the Day (GSOD) dataset, which is also provided by the National Centers for Environmental Information (NCEI). The GSOD dataset is similar to the GHCN-D dataset, but includes additional variables and geographic coordinates for each weather station. You can follow the same steps as before to access the GSOD dataset from the NCEI website, but select \"Global Surface Summary of the Day (GSOD)\" instead of \"Global Historical Climatology Network - Daily (GHCN-D)\" in step 6.\n",
        "\n",
        "Once you have downloaded the data and selected the data for the desired station and year range, you can plot the data as described in my earlier response. However, keep in mind that the GSOD dataset may have different data quality and processing procedures compared to the GHCN-D dataset, so you should check the data documentation and quality flags before using the data for any analysis."
      ],
      "metadata": {
        "id": "nkaQzzkuRPHN"
      }
    },
    {
      "cell_type": "code",
      "source": [
        "import pandas as pd\n",
        "import matplotlib.pyplot as plt\n",
        "\n",
        "# Define the URL for the GHCN-D dataset\n",
        "url = \"https://www.ncei.noaa.gov/data/global-historical-climatology-network-daily/access/\"\n",
        "\n",
        "# Define the station ID for South Korea (Seoul)\n",
        "station_id = \"KSW00043242\"\n",
        "\n",
        "# Define the start and end years for the analysis\n",
        "start_year = 1921\n",
        "end_year = 2021\n",
        "\n",
        "# Define a list to store the dataframes for each year\n",
        "dfs = []\n",
        "\n",
        "# Loop over each year and download the daily data for the station\n",
        "for year in range(start_year, end_year+1):\n",
        "    print(f\"Downloading data for year {year}\")\n",
        "    file_url = url + f\"{year}/{station_id}-{year}.csv\"\n",
        "    df = pd.read_csv(file_url, header=None, names=[\"station_id\", \"date\", \"element\", \"value\", \"m_flag\", \"q_flag\", \"s_flag\", \"obs_time\"])\n",
        "    df = df[df[\"element\"] == \"TAVG\"]  # Keep only daily average temperature data\n",
        "    df[\"date\"] = pd.to_datetime(df[\"date\"])  # Convert date to datetime object\n",
        "    df = df.set_index(\"date\")  # Set date as index\n",
        "    dfs.append(df)\n",
        "\n",
        "# Concatenate the dataframes for each year into a single dataframe\n",
        "temp_data = pd.concat(dfs)\n",
        "\n",
        "# Resample the data to compute the monthly average temperature\n",
        "monthly_avg_temp_data = temp_data.resample(\"M\").mean()\n",
        "\n",
        "# Plot the monthly average temperature data over time\n",
        "plt.figure(figsize=(12, 6))\n",
        "plt.plot(monthly_avg_temp_data.index, monthly_avg_temp_data[\"value\"], color=\"red\")\n",
        "plt.xlabel(\"Year\")\n",
        "plt.ylabel(\"Monthly Average Temperature (°C)\")\n",
        "plt.title(\"South Korea Monthly Average Temperature (1921-2021)\")\n",
        "plt.show()\n"
      ],
      "metadata": {
        "id": "6kTuVSC7KOqI"
      },
      "execution_count": null,
      "outputs": []
    },
    {
      "cell_type": "markdown",
      "source": [
        "### google earth engine code "
      ],
      "metadata": {
        "id": "H6yvIWCKRn_V"
      }
    },
    {
      "cell_type": "code",
      "source": [
        "var southKorea = ee.FeatureCollection(\"USDOS/LSIB_SIMPLE/2017\")\n",
        "  .filter(ee.Filter.eq('country_na', 'South Korea'));\n",
        "\n",
        "var startDate = '1970-01-01';\n",
        "var endDate = '2023-02-15';\n",
        "\n",
        "var lst = ee.ImageCollection('LANDSAT/LC08/C01/T1_L2')\n",
        "  .filterBounds(southKorea)\n",
        "  .filterDate(startDate, endDate)\n",
        "  .select('LST');\n"
      ],
      "metadata": {
        "id": "kCndMvyjRTxe"
      },
      "execution_count": null,
      "outputs": []
    },
    {
      "cell_type": "code",
      "source": [
        "Export.image.toDrive({\n",
        "  image: lst.mean(),\n",
        "  description: 'LST_SouthKorea',\n",
        "  folder: 'GEE',\n",
        "  region: southKorea.geometry().bounds(),\n",
        "  scale: 30,\n",
        "  maxPixels: 1e12\n",
        "});\n"
      ],
      "metadata": {
        "id": "rROlPpBaRygn"
      },
      "execution_count": null,
      "outputs": []
    },
    {
      "cell_type": "markdown",
      "source": [
        "### Gee in python "
      ],
      "metadata": {
        "id": "PWZSeM2JR6T8"
      }
    },
    {
      "cell_type": "code",
      "source": [
        "# !pip install earthengine-api\n"
      ],
      "metadata": {
        "id": "aQ7XUuPOR56G"
      },
      "execution_count": 20,
      "outputs": []
    },
    {
      "cell_type": "code",
      "source": [
        "import ee\n",
        "# ee.Authenticate()\n",
        "ee.Initialize()"
      ],
      "metadata": {
        "id": "7LvbRTq6SBKk"
      },
      "execution_count": 21,
      "outputs": []
    },
    {
      "cell_type": "code",
      "source": [
        "south_korea = ee.Geometry.Polygon(\n",
        "    [[[123.588600, 33.204140], [131.081390, 33.204140], [131.081390, 38.612690], [123.588600, 38.612690], [123.588600, 33.204140]]], \n",
        "    None, \n",
        "    False)\n"
      ],
      "metadata": {
        "id": "at5FZBWuSIc1"
      },
      "execution_count": 22,
      "outputs": []
    },
    {
      "cell_type": "code",
      "source": [
        "start_date = '1970-01-01'\n",
        "end_date = '2023-02-15'\n",
        "\n",
        "collection = ee.ImageCollection('LANDSAT/LC08/C01/T1_L2') \\\n",
        "    .filterBounds(south_korea) \\\n",
        "    .filterDate(start_date, end_date) \\\n",
        "    .select('LST')\n"
      ],
      "metadata": {
        "id": "_eENi3NjSMh1"
      },
      "execution_count": 23,
      "outputs": []
    },
    {
      "cell_type": "code",
      "source": [
        "task = ee.batch.Export.image.toDrive(\n",
        "    image = collection.mean(),\n",
        "    description = 'LST_SouthKorea',\n",
        "    folder = 'GEE',\n",
        "    region = south_korea.bounds().getInfo()['coordinates'],\n",
        "    scale = 30,\n",
        "    maxPixels = 1e12\n",
        ")\n",
        "\n",
        "task.start()\n"
      ],
      "metadata": {
        "id": "YU1gFtinSPuF"
      },
      "execution_count": null,
      "outputs": []
    },
    {
      "cell_type": "code",
      "source": [
        "task.status()"
      ],
      "metadata": {
        "colab": {
          "base_uri": "https://localhost:8080/"
        },
        "id": "D2JkMRWXStnU",
        "outputId": "53a27821-8f6f-4789-c04d-3e1235169cc2"
      },
      "execution_count": 27,
      "outputs": [
        {
          "output_type": "execute_result",
          "data": {
            "text/plain": [
              "{'state': 'UNSUBMITTED'}"
            ]
          },
          "metadata": {},
          "execution_count": 27
        }
      ]
    },
    {
      "cell_type": "code",
      "source": [
        "collection.size()"
      ],
      "metadata": {
        "id": "Kc0VVNeXSYmF"
      },
      "execution_count": null,
      "outputs": []
    },
    {
      "cell_type": "markdown",
      "source": [
        "##easy code"
      ],
      "metadata": {
        "id": "EqMWfdRATf_k"
      }
    },
    {
      "cell_type": "code",
      "source": [
        "import requests\n",
        "import pandas as pd\n",
        "\n",
        "def download_temperature_data(station_id, start_year, end_year):\n",
        "    # Define the URL of the GHCN daily dataset\n",
        "    url = \"https://www.ncei.noaa.gov/access/services/data/v1\"\n",
        "\n",
        "    # Set the parameters for the data request\n",
        "    params = {\n",
        "        \"dataset\": \"daily-summaries\",\n",
        "        \"stations\": station_id,\n",
        "        \"startDate\": f\"{start_year}-01-01\",\n",
        "        \"endDate\": f\"{end_year}-12-31\",\n",
        "        \"format\": \"json\",\n",
        "    }\n",
        "\n",
        "    # Send the request to the server and get the response\n",
        "    response = requests.get(url, params=params)\n",
        "    print(response.code)\n",
        "\n",
        "    # Parse the JSON response into a pandas DataFrame\n",
        "    data = pd.read_json(response.content)\n",
        "\n",
        "    # Extract the temperature data and return it\n",
        "    temperature_data = data[[\"DATE\", \"TMAX\", \"TMIN\"]].copy()\n",
        "    temperature_data[\"DATE\"] = pd.to_datetime(temperature_data[\"DATE\"], format=\"%Y-%m-%d\")\n",
        "    temperature_data.set_index(\"DATE\", inplace=True)\n",
        "\n",
        "    return temperature_data\n"
      ],
      "metadata": {
        "id": "ERDxNdipTfWU"
      },
      "execution_count": 41,
      "outputs": []
    },
    {
      "cell_type": "code",
      "source": [
        "temperature_data = download_temperature_data(station_id=\"KRS00047800\", start_year=1970, end_year=2019)\n",
        "print(temperature_data.head())\n"
      ],
      "metadata": {
        "id": "vUm11FSETmxt"
      },
      "execution_count": null,
      "outputs": []
    },
    {
      "cell_type": "markdown",
      "source": [
        "### Modis data "
      ],
      "metadata": {
        "id": "p7QfeRGYVV8U"
      }
    },
    {
      "cell_type": "code",
      "source": [
        "import ee\n",
        "import datetime\n",
        "\n",
        "# Initialize the Earth Engine API\n",
        "ee.Initialize()\n",
        "\n",
        "# Define the bounding box of interest (longitude, latitude)\n",
        "bbox = [127.0093, 37.5042, 127.1122, 37.5691]\n",
        "\n",
        "# Define the time period of interest\n",
        "start_date = datetime.datetime(1970, 1, 1)\n",
        "end_date = datetime.datetime(2020, 12, 31)\n",
        "\n",
        "# Load the MODIS Land Surface Temperature product\n",
        "lst = ee.ImageCollection(\"MODIS/006/MOD11A2\") \\\n",
        "        .filterBounds(ee.Geometry.Rectangle(bbox)) \\\n",
        "        .filterDate(start_date, end_date) \\\n",
        "        .select(\"LST_Day_1km\", \"LST_Night_1km\")\n",
        "\n",
        "# Get the temperature data as a time series\n",
        "timeseries = lst.getRegion(ee.Geometry.Rectangle(bbox), scale=1000) \\\n",
        "        .getInfo()\n",
        "\n",
        "# Convert the time series data to a Pandas DataFrame\n",
        "import pandas as pd\n",
        "data = pd.DataFrame(timeseries[1:], columns=timeseries[0])\n",
        "\n",
        "# Convert the date column to a Python datetime object\n",
        "data['time'] = pd.to_datetime(data['time'], unit='ms')\n",
        "\n",
        "# Convert the temperature values from Kelvin to Celsius\n",
        "data['LST_Day_1km'] = data['LST_Day_1km'].astype(float) - 273.15\n",
        "data['LST_Night_1km'] = data['LST_Night_1km'].astype(float) - 273.15\n",
        "\n",
        "# Print the first few rows of the data frame\n",
        "print(data.head())\n"
      ],
      "metadata": {
        "colab": {
          "base_uri": "https://localhost:8080/"
        },
        "id": "ojyxPOYyVUNj",
        "outputId": "3deb6cf5-a0fe-489b-8527-527c09ab3b1a"
      },
      "execution_count": 44,
      "outputs": [
        {
          "output_type": "stream",
          "name": "stdout",
          "text": [
            "           id  longitude   latitude       time  LST_Day_1km  LST_Night_1km\n",
            "0  2000_02_18  127.01729  37.509155 2000-02-18     13582.85            NaN\n",
            "1  2000_02_26  127.01729  37.509155 2000-02-26     13846.85       13429.85\n",
            "2  2000_03_05  127.01729  37.509155 2000-03-05     13924.85       13377.85\n",
            "3  2000_03_13  127.01729  37.509155 2000-03-13     14077.85       13565.85\n",
            "4  2000_03_21  127.01729  37.509155 2000-03-21     14157.85       13625.85\n"
          ]
        }
      ]
    },
    {
      "cell_type": "code",
      "source": [
        "import ee\n",
        "import pandas as pd\n",
        "\n",
        "# Initialize the Earth Engine API\n",
        "ee.Initialize()\n",
        "\n",
        "# Define the bounding box of interest (longitude, latitude)\n",
        "bbox = [127.0093, 37.5042, 127.1122, 37.5691]\n",
        "\n",
        "# Load the MODIS Land Surface Temperature product\n",
        "lst = ee.ImageCollection(\"MODIS/006/MOD11A2\") \\\n",
        "        .filterBounds(ee.Geometry.Rectangle(bbox)) \\\n",
        "        .select(\"LST_Day_1km\", \"LST_Night_1km\")\n",
        "\n",
        "# Define the time period of interest\n",
        "start_date = '2019-01-01'\n",
        "end_date = '2019-12-31'\n",
        "\n",
        "# Filter the image collection by date\n",
        "lst_filtered = lst.filterDate(start_date, end_date)\n",
        "\n",
        "# Get the temperature data as a time series\n",
        "timeseries = lst_filtered.getRegion(\n",
        "    ee.Geometry.Rectangle(bbox),\n",
        "    scale=1000,\n",
        "    crs='EPSG:4326'\n",
        "  ).getInfo()\n",
        "\n",
        "# Convert the time series data to a Pandas DataFrame\n",
        "header = timeseries[0]\n",
        "data = pd.DataFrame(timeseries[1:], columns=header)\n",
        "\n",
        "# Convert the date column to a Python datetime object\n",
        "data['time'] = pd.to_datetime(data['time'], unit='ms')\n",
        "\n",
        "# Convert the temperature values from Kelvin to Celsius\n",
        "data['LST_Day_1km'] = data['LST_Day_1km'].astype(float) - 273.15\n",
        "data['LST_Night_1km'] = data['LST_Night_1km'].astype(float) - 273.15\n",
        "\n",
        "# Print the first few rows of the data frame\n",
        "print(data.head())\n"
      ],
      "metadata": {
        "colab": {
          "base_uri": "https://localhost:8080/"
        },
        "id": "HLknPTINV7fG",
        "outputId": "60461061-f2b2-4dea-99b8-7e3b6e41d08c"
      },
      "execution_count": 45,
      "outputs": [
        {
          "output_type": "stream",
          "name": "stdout",
          "text": [
            "           id  longitude   latitude       time  LST_Day_1km  LST_Night_1km\n",
            "0  2019_01_01  127.01729  37.509155 2019-01-01     13416.85       13189.85\n",
            "1  2019_01_09  127.01729  37.509155 2019-01-09     13563.85       13314.85\n",
            "2  2019_01_17  127.01729  37.509155 2019-01-17     13633.85       13331.85\n",
            "3  2019_01_25  127.01729  37.509155 2019-01-25     13593.85       13247.85\n",
            "4  2019_02_02  127.01729  37.509155 2019-02-02     13508.85       13116.85\n"
          ]
        }
      ]
    },
    {
      "cell_type": "code",
      "source": [
        "# import ee\n",
        "# import pandas as pd\n",
        "\n",
        "# # Initialize the Earth Engine API\n",
        "# ee.Initialize()\n",
        "\n",
        "# # Load the country boundary shapefile as a feature\n",
        "# country = ee.FeatureCollection('USDOS/LSIB_SIMPLE/2017') \\\n",
        "#             .filter(ee.Filter.eq('country_na', 'South Korea'))\n",
        "\n",
        "# # Load the MODIS Land Surface Temperature product\n",
        "# lst = ee.ImageCollection(\"MODIS/006/MOD11A2\") \\\n",
        "#         .filterBounds(country) \\\n",
        "#         .select(\"LST_Day_1km\", \"LST_Night_1km\")\n",
        "\n",
        "# # Define the time period of interest\n",
        "# start_date = '2019-01-01'\n",
        "# end_date = '2019-12-31'\n",
        "\n",
        "# # Filter the image collection by date\n",
        "# lst_filtered = lst.filterDate(start_date, end_date)\n",
        "\n",
        "# # Get the temperature data as a time series\n",
        "# timeseries = lst_filtered.getRegion(\n",
        "#     country.geometry().bounds(),\n",
        "#     scale=1000,\n",
        "#     crs='EPSG:4326'\n",
        "#   ).getInfo()\n",
        "\n",
        "# # Convert the time series data to a Pandas DataFrame\n",
        "# header = timeseries[0]\n",
        "# data = pd.DataFrame(timeseries[1:], columns=header)\n",
        "\n",
        "# # Convert the date column to a Python datetime object\n",
        "# data['time'] = pd.to_datetime(data['time'], unit='ms')\n",
        "\n",
        "# # Convert the temperature values from Kelvin to Celsius\n",
        "# data['LST_Day_1km'] = data['LST_Day_1km'].astype(float) - 273.15\n",
        "# data['LST_Night_1km'] = data['LST_Night_1km'].astype(float) - 273.15\n",
        "\n",
        "# # Print the first few rows of the data frame\n",
        "# print(data.head())\n"
      ],
      "metadata": {
        "id": "zLzjqsIRWatM"
      },
      "execution_count": null,
      "outputs": []
    },
    {
      "cell_type": "code",
      "source": [
        "# ee.FeatureCollection('FAO/GAUL/2015/level0').select('ADM0_NAME').filter(ee.Filter.eq('ADM0_NAME', \"South Korea\"))"
      ],
      "metadata": {
        "colab": {
          "base_uri": "https://localhost:8080/"
        },
        "id": "WgOLGHiAXl-6",
        "outputId": "04b82e2c-b4c8-4c48-f365-3e282bfde974"
      },
      "execution_count": 52,
      "outputs": [
        {
          "output_type": "execute_result",
          "data": {
            "text/plain": [
              "<ee.featurecollection.FeatureCollection at 0x7f7d22574700>"
            ]
          },
          "metadata": {},
          "execution_count": 52
        }
      ]
    },
    {
      "cell_type": "code",
      "source": [
        "# ee.Feature(ee.FeatureCollection(\"FAO/GAUL/2015/level0\").filter(ee.Filter.eq('ADM0_NAME', 'Republic of Korea')).first()).geometry()"
      ],
      "metadata": {
        "id": "I1Ywea-mmcGG"
      },
      "execution_count": null,
      "outputs": []
    },
    {
      "cell_type": "code",
      "source": [
        "aa=country_boundary.bounds().getInfo()\n",
        "aa['geometry']['coordinates']"
      ],
      "metadata": {
        "colab": {
          "base_uri": "https://localhost:8080/"
        },
        "id": "m_LPnFr-m5w-",
        "outputId": "a355bd96-94b7-45d9-8e47-e2de23c74568"
      },
      "execution_count": 125,
      "outputs": [
        {
          "output_type": "execute_result",
          "data": {
            "text/plain": [
              "[[[124.60813861452617, 33.106109727262016],\n",
              "  [130.92321566233534, 33.106109727262016],\n",
              "  [130.92321566233534, 38.614950058033024],\n",
              "  [124.60813861452617, 38.614950058033024],\n",
              "  [124.60813861452617, 33.106109727262016]]]"
            ]
          },
          "metadata": {},
          "execution_count": 125
        }
      ]
    },
    {
      "cell_type": "code",
      "source": [
        "import ee\n",
        "import pandas as pd\n",
        "\n",
        "# Initialize the Earth Engine API\n",
        "ee.Initialize()\n",
        "\n",
        "# Load the South Korea boundary shapefile as a feature collection\n",
        "# country_boundary_fc = ee.FeatureCollection(\"users/your_username/your_feature_collection_name\")\n",
        "country_boundary=ee.Feature(ee.FeatureCollection(\"FAO/GAUL/2015/level0\").filter(ee.Filter.eq('ADM0_NAME', 'Republic of Korea')).first())\n",
        "# # Load the South Korea boundary feature\n",
        "# country_boundary = country_boundary_fc.first()\n",
        "\n",
        "# Load the MODIS Land Surface Temperature product\n",
        "lst = ee.ImageCollection(\"MODIS/006/MOD11A2\") \\\n",
        "        .filterBounds(country_boundary) \\\n",
        "        .select(\"LST_Day_1km\", \"LST_Night_1km\")\n",
        "\n",
        "# Define the time period of interest\n",
        "start_date = '2019-01-01'\n",
        "end_date = '2019-12-31'\n",
        "\n",
        "# Filter the image collection by date\n",
        "lst_filtered = lst.filterDate(start_date, end_date)\n",
        "\n",
        "# Get the temperature data as a time series\n",
        "timeseries = lst_filtered.getRegion(\n",
        "    country_boundary.geometry().bounds(),\n",
        "    scale=1000,\n",
        "    crs='EPSG:4326'\n",
        "  ).getInfo()\n",
        "\n",
        "# Convert the time series data to a Pandas DataFrame\n",
        "header = timeseries[0]\n",
        "data = pd.DataFrame(timeseries[1:], columns=header)\n",
        "\n",
        "# Convert the date column to a Python datetime object\n",
        "data['time'] = pd.to_datetime(data['time'], unit='ms')\n",
        "\n",
        "# Convert the temperature values from Kelvin to Celsius\n",
        "data['LST_Day_1km'] = data['LST_Day_1km'].astype(float) - 273.15\n",
        "data['LST_Night_1km'] = data['LST_Night_1km'].astype(float) - 273.15\n",
        "\n",
        "# Print the first few rows of the data frame\n",
        "print(data.head())\n"
      ],
      "metadata": {
        "id": "Rp-i_RABXLgE"
      },
      "execution_count": null,
      "outputs": []
    },
    {
      "cell_type": "code",
      "source": [
        "map = folium.Map(location=[37, 126], zoom_start=14, control_scale=True)\n",
        "map"
      ],
      "metadata": {
        "colab": {
          "base_uri": "https://localhost:8080/",
          "height": 991
        },
        "id": "08-iQRP8gwt9",
        "outputId": "56e75333-2203-4e0a-f04b-68eb18398d5c"
      },
      "execution_count": 86,
      "outputs": [
        {
          "output_type": "execute_result",
          "data": {
            "text/plain": [
              "<folium.folium.Map at 0x7f7d2165f910>"
            ],
            "text/html": [
              "<div style=\"width:100%;\"><div style=\"position:relative;width:100%;height:0;padding-bottom:60%;\"><span style=\"color:#565656\">Make this Notebook Trusted to load map: File -> Trust Notebook</span><iframe srcdoc=\"&lt;!DOCTYPE html&gt;\n",
              "&lt;html&gt;\n",
              "&lt;head&gt;\n",
              "    \n",
              "    &lt;meta http-equiv=&quot;content-type&quot; content=&quot;text/html; charset=UTF-8&quot; /&gt;\n",
              "    \n",
              "        &lt;script&gt;\n",
              "            L_NO_TOUCH = false;\n",
              "            L_DISABLE_3D = false;\n",
              "        &lt;/script&gt;\n",
              "    \n",
              "    &lt;style&gt;html, body {width: 100%;height: 100%;margin: 0;padding: 0;}&lt;/style&gt;\n",
              "    &lt;style&gt;#map {position:absolute;top:0;bottom:0;right:0;left:0;}&lt;/style&gt;\n",
              "    &lt;script src=&quot;https://cdn.jsdelivr.net/npm/leaflet@1.6.0/dist/leaflet.js&quot;&gt;&lt;/script&gt;\n",
              "    &lt;script src=&quot;https://code.jquery.com/jquery-1.12.4.min.js&quot;&gt;&lt;/script&gt;\n",
              "    &lt;script src=&quot;https://maxcdn.bootstrapcdn.com/bootstrap/3.2.0/js/bootstrap.min.js&quot;&gt;&lt;/script&gt;\n",
              "    &lt;script src=&quot;https://cdnjs.cloudflare.com/ajax/libs/Leaflet.awesome-markers/2.0.2/leaflet.awesome-markers.js&quot;&gt;&lt;/script&gt;\n",
              "    &lt;link rel=&quot;stylesheet&quot; href=&quot;https://cdn.jsdelivr.net/npm/leaflet@1.6.0/dist/leaflet.css&quot;/&gt;\n",
              "    &lt;link rel=&quot;stylesheet&quot; href=&quot;https://maxcdn.bootstrapcdn.com/bootstrap/3.2.0/css/bootstrap.min.css&quot;/&gt;\n",
              "    &lt;link rel=&quot;stylesheet&quot; href=&quot;https://maxcdn.bootstrapcdn.com/bootstrap/3.2.0/css/bootstrap-theme.min.css&quot;/&gt;\n",
              "    &lt;link rel=&quot;stylesheet&quot; href=&quot;https://maxcdn.bootstrapcdn.com/font-awesome/4.6.3/css/font-awesome.min.css&quot;/&gt;\n",
              "    &lt;link rel=&quot;stylesheet&quot; href=&quot;https://cdnjs.cloudflare.com/ajax/libs/Leaflet.awesome-markers/2.0.2/leaflet.awesome-markers.css&quot;/&gt;\n",
              "    &lt;link rel=&quot;stylesheet&quot; href=&quot;https://cdn.jsdelivr.net/gh/python-visualization/folium/folium/templates/leaflet.awesome.rotate.min.css&quot;/&gt;\n",
              "    \n",
              "            &lt;meta name=&quot;viewport&quot; content=&quot;width=device-width,\n",
              "                initial-scale=1.0, maximum-scale=1.0, user-scalable=no&quot; /&gt;\n",
              "            &lt;style&gt;\n",
              "                #map_097453304122dcd0d607493121decb06 {\n",
              "                    position: relative;\n",
              "                    width: 100.0%;\n",
              "                    height: 100.0%;\n",
              "                    left: 0.0%;\n",
              "                    top: 0.0%;\n",
              "                }\n",
              "            &lt;/style&gt;\n",
              "        \n",
              "&lt;/head&gt;\n",
              "&lt;body&gt;\n",
              "    \n",
              "    \n",
              "            &lt;div class=&quot;folium-map&quot; id=&quot;map_097453304122dcd0d607493121decb06&quot; &gt;&lt;/div&gt;\n",
              "        \n",
              "&lt;/body&gt;\n",
              "&lt;script&gt;\n",
              "    \n",
              "    \n",
              "            var map_097453304122dcd0d607493121decb06 = L.map(\n",
              "                &quot;map_097453304122dcd0d607493121decb06&quot;,\n",
              "                {\n",
              "                    center: [37.0, 126.0],\n",
              "                    crs: L.CRS.EPSG3857,\n",
              "                    zoom: 14,\n",
              "                    zoomControl: true,\n",
              "                    preferCanvas: false,\n",
              "                }\n",
              "            );\n",
              "            L.control.scale().addTo(map_097453304122dcd0d607493121decb06);\n",
              "\n",
              "            \n",
              "\n",
              "        \n",
              "    \n",
              "            var tile_layer_d8e6ae5dd39189ab55d14ed8eb42d93f = L.tileLayer(\n",
              "                &quot;https://{s}.tile.openstreetmap.org/{z}/{x}/{y}.png&quot;,\n",
              "                {&quot;attribution&quot;: &quot;Data by \\u0026copy; \\u003ca href=\\&quot;http://openstreetmap.org\\&quot;\\u003eOpenStreetMap\\u003c/a\\u003e, under \\u003ca href=\\&quot;http://www.openstreetmap.org/copyright\\&quot;\\u003eODbL\\u003c/a\\u003e.&quot;, &quot;detectRetina&quot;: false, &quot;maxNativeZoom&quot;: 18, &quot;maxZoom&quot;: 18, &quot;minZoom&quot;: 0, &quot;noWrap&quot;: false, &quot;opacity&quot;: 1, &quot;subdomains&quot;: &quot;abc&quot;, &quot;tms&quot;: false}\n",
              "            ).addTo(map_097453304122dcd0d607493121decb06);\n",
              "        \n",
              "&lt;/script&gt;\n",
              "&lt;/html&gt;\" style=\"position:absolute;width:100%;height:100%;left:0;top:0;border:none !important;\" allowfullscreen webkitallowfullscreen mozallowfullscreen></iframe></div></div>"
            ]
          },
          "metadata": {},
          "execution_count": 86
        }
      ]
    }
  ]
}